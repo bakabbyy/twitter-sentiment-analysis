{
 "cells": [
  {
   "cell_type": "code",
   "execution_count": 2,
   "metadata": {},
   "outputs": [],
   "source": [
    "# import necessary packages\n",
    "import os\n",
    "import glob\n",
    "import pandas as pd\n",
    "import numpy as np"
   ]
  },
  {
   "cell_type": "code",
   "execution_count": 3,
   "metadata": {},
   "outputs": [],
   "source": [
    "df1 = pd.read_pickle('four_to_end.pkl')\n",
    "df2 = pd.read_pickle('ten_thousand_each.pkl')\n",
    "df3 = pd.read_pickle('ten_thousand_more.pkl')\n",
    "df4 = pd.read_pickle('try_again.pkl')\n",
    "df5 = pd.read_pickle('zero_to_4.pkl')"
   ]
  },
  {
   "cell_type": "code",
   "execution_count": 9,
   "metadata": {},
   "outputs": [],
   "source": [
    "df_full = pd.concat([df1, df2, df3, df4, df5])"
   ]
  },
  {
   "cell_type": "code",
   "execution_count": 10,
   "metadata": {},
   "outputs": [
    {
     "data": {
      "text/plain": [
       "(91387, 21)"
      ]
     },
     "execution_count": 10,
     "metadata": {},
     "output_type": "execute_result"
    }
   ],
   "source": [
    "df_full.shape"
   ]
  },
  {
   "cell_type": "code",
   "execution_count": 11,
   "metadata": {},
   "outputs": [],
   "source": [
    "df_full_loop1 = pd.read_pickle('try_again_first_four.pkl')\n",
    "df_full_loop2 = pd.read_pickle('try_again_two.pkl')\n",
    "df_full_loop3 = pd.read_pickle('try_again.pkl')"
   ]
  },
  {
   "cell_type": "code",
   "execution_count": 12,
   "metadata": {},
   "outputs": [],
   "source": [
    "df_full_loop = pd.concat([df_full_loop1, df_full_loop2, df_full_loop3])"
   ]
  },
  {
   "cell_type": "code",
   "execution_count": 13,
   "metadata": {},
   "outputs": [
    {
     "data": {
      "text/plain": [
       "(97412, 21)"
      ]
     },
     "execution_count": 13,
     "metadata": {},
     "output_type": "execute_result"
    }
   ],
   "source": [
    "df_full_loop.shape"
   ]
  },
  {
   "cell_type": "code",
   "execution_count": 14,
   "metadata": {},
   "outputs": [],
   "source": [
    "df_all = pd.concat([df_full, df_full_loop])"
   ]
  },
  {
   "cell_type": "code",
   "execution_count": 15,
   "metadata": {},
   "outputs": [
    {
     "data": {
      "text/html": [
       "<div>\n",
       "<style scoped>\n",
       "    .dataframe tbody tr th:only-of-type {\n",
       "        vertical-align: middle;\n",
       "    }\n",
       "\n",
       "    .dataframe tbody tr th {\n",
       "        vertical-align: top;\n",
       "    }\n",
       "\n",
       "    .dataframe thead th {\n",
       "        text-align: right;\n",
       "    }\n",
       "</style>\n",
       "<table border=\"1\" class=\"dataframe\">\n",
       "  <thead>\n",
       "    <tr style=\"text-align: right;\">\n",
       "      <th></th>\n",
       "      <th>screen_name</th>\n",
       "      <th>username</th>\n",
       "      <th>user_id</th>\n",
       "      <th>tweet_id</th>\n",
       "      <th>tweet_url</th>\n",
       "      <th>timestamp</th>\n",
       "      <th>timestamp_epochs</th>\n",
       "      <th>text</th>\n",
       "      <th>text_html</th>\n",
       "      <th>links</th>\n",
       "      <th>...</th>\n",
       "      <th>has_media</th>\n",
       "      <th>img_urls</th>\n",
       "      <th>video_url</th>\n",
       "      <th>likes</th>\n",
       "      <th>retweets</th>\n",
       "      <th>replies</th>\n",
       "      <th>is_replied</th>\n",
       "      <th>is_reply_to</th>\n",
       "      <th>parent_tweet_id</th>\n",
       "      <th>reply_to_users</th>\n",
       "    </tr>\n",
       "  </thead>\n",
       "  <tbody>\n",
       "    <tr>\n",
       "      <th>0</th>\n",
       "      <td>whitestonedome</td>\n",
       "      <td>Whitestone Dome</td>\n",
       "      <td>867593107956654080</td>\n",
       "      <td>1229913515751804928</td>\n",
       "      <td>/whitestonedome/status/1229913515751804928</td>\n",
       "      <td>2020-02-18 23:40:07</td>\n",
       "      <td>1582069207</td>\n",
       "      <td>Which screen protector will you choose for you...</td>\n",
       "      <td>&lt;p class=\"TweetTextSize js-tweet-text tweet-te...</td>\n",
       "      <td>[http://WHITESTONEDOME.COM]</td>\n",
       "      <td>...</td>\n",
       "      <td>True</td>\n",
       "      <td>[https://pbs.twimg.com/media/ERGHznlW4AAClZ9.j...</td>\n",
       "      <td></td>\n",
       "      <td>0</td>\n",
       "      <td>0</td>\n",
       "      <td>0</td>\n",
       "      <td>False</td>\n",
       "      <td>False</td>\n",
       "      <td></td>\n",
       "      <td>[]</td>\n",
       "    </tr>\n",
       "    <tr>\n",
       "      <th>1</th>\n",
       "      <td>Karlytax_90</td>\n",
       "      <td>Karla Contreras</td>\n",
       "      <td>449154311</td>\n",
       "      <td>1229896560982532101</td>\n",
       "      <td>/Karlytax_90/status/1229896560982532101</td>\n",
       "      <td>2020-02-18 22:32:45</td>\n",
       "      <td>1582065165</td>\n",
       "      <td>Les hice una pregunta sobre la batería del #Ga...</td>\n",
       "      <td>&lt;p class=\"TweetTextSize js-tweet-text tweet-te...</td>\n",
       "      <td>[]</td>\n",
       "      <td>...</td>\n",
       "      <td>False</td>\n",
       "      <td>[]</td>\n",
       "      <td></td>\n",
       "      <td>0</td>\n",
       "      <td>0</td>\n",
       "      <td>0</td>\n",
       "      <td>False</td>\n",
       "      <td>True</td>\n",
       "      <td>1229857273574502408</td>\n",
       "      <td>[{'screen_name': 'SamsungChile', 'user_id': '3...</td>\n",
       "    </tr>\n",
       "    <tr>\n",
       "      <th>2</th>\n",
       "      <td>GianFrDiGiorgi</td>\n",
       "      <td>Gianfranco Di Giorgi</td>\n",
       "      <td>420525254</td>\n",
       "      <td>1229896126310035461</td>\n",
       "      <td>/GianFrDiGiorgi/status/1229896126310035461</td>\n",
       "      <td>2020-02-18 22:31:01</td>\n",
       "      <td>1582065061</td>\n",
       "      <td>#toledo #toledospain #toledoespaña #toledoturi...</td>\n",
       "      <td>&lt;p class=\"TweetTextSize js-tweet-text tweet-te...</td>\n",
       "      <td>[https://www.instagram.com/p/B8uZ24fIfZt/?igsh...</td>\n",
       "      <td>...</td>\n",
       "      <td>False</td>\n",
       "      <td>[]</td>\n",
       "      <td></td>\n",
       "      <td>0</td>\n",
       "      <td>0</td>\n",
       "      <td>0</td>\n",
       "      <td>False</td>\n",
       "      <td>False</td>\n",
       "      <td></td>\n",
       "      <td>[]</td>\n",
       "    </tr>\n",
       "    <tr>\n",
       "      <th>3</th>\n",
       "      <td>bestphoneplans_</td>\n",
       "      <td>BestPhonePlans</td>\n",
       "      <td>977191396925943808</td>\n",
       "      <td>1229892355332984833</td>\n",
       "      <td>/bestphoneplans_/status/1229892355332984833</td>\n",
       "      <td>2020-02-18 22:16:02</td>\n",
       "      <td>1582064162</td>\n",
       "      <td>Here's why the #Samsung #GalaxyS20 makes last ...</td>\n",
       "      <td>&lt;p class=\"TweetTextSize js-tweet-text tweet-te...</td>\n",
       "      <td>[https://www.bestphoneplans.net/news/galaxy-s1...</td>\n",
       "      <td>...</td>\n",
       "      <td>True</td>\n",
       "      <td>[https://pbs.twimg.com/media/ERF0lEWXkAY0Tot.jpg]</td>\n",
       "      <td></td>\n",
       "      <td>1</td>\n",
       "      <td>0</td>\n",
       "      <td>0</td>\n",
       "      <td>False</td>\n",
       "      <td>False</td>\n",
       "      <td></td>\n",
       "      <td>[]</td>\n",
       "    </tr>\n",
       "    <tr>\n",
       "      <th>4</th>\n",
       "      <td>12bLAxx</td>\n",
       "      <td>Anika Malone</td>\n",
       "      <td>3265462410</td>\n",
       "      <td>1229870326894358528</td>\n",
       "      <td>/12bLAxx/status/1229870326894358528</td>\n",
       "      <td>2020-02-18 20:48:30</td>\n",
       "      <td>1582058910</td>\n",
       "      <td>I love playing in pro mode on the #GalaxyS10. ...</td>\n",
       "      <td>&lt;p class=\"TweetTextSize js-tweet-text tweet-te...</td>\n",
       "      <td>[]</td>\n",
       "      <td>...</td>\n",
       "      <td>True</td>\n",
       "      <td>[https://pbs.twimg.com/media/ERFgUn-U8AAC2nn.jpg]</td>\n",
       "      <td></td>\n",
       "      <td>0</td>\n",
       "      <td>0</td>\n",
       "      <td>0</td>\n",
       "      <td>False</td>\n",
       "      <td>False</td>\n",
       "      <td></td>\n",
       "      <td>[]</td>\n",
       "    </tr>\n",
       "  </tbody>\n",
       "</table>\n",
       "<p>5 rows × 21 columns</p>\n",
       "</div>"
      ],
      "text/plain": [
       "       screen_name              username             user_id  \\\n",
       "0   whitestonedome       Whitestone Dome  867593107956654080   \n",
       "1      Karlytax_90       Karla Contreras           449154311   \n",
       "2   GianFrDiGiorgi  Gianfranco Di Giorgi           420525254   \n",
       "3  bestphoneplans_        BestPhonePlans  977191396925943808   \n",
       "4          12bLAxx          Anika Malone          3265462410   \n",
       "\n",
       "              tweet_id                                    tweet_url  \\\n",
       "0  1229913515751804928   /whitestonedome/status/1229913515751804928   \n",
       "1  1229896560982532101      /Karlytax_90/status/1229896560982532101   \n",
       "2  1229896126310035461   /GianFrDiGiorgi/status/1229896126310035461   \n",
       "3  1229892355332984833  /bestphoneplans_/status/1229892355332984833   \n",
       "4  1229870326894358528          /12bLAxx/status/1229870326894358528   \n",
       "\n",
       "            timestamp  timestamp_epochs  \\\n",
       "0 2020-02-18 23:40:07        1582069207   \n",
       "1 2020-02-18 22:32:45        1582065165   \n",
       "2 2020-02-18 22:31:01        1582065061   \n",
       "3 2020-02-18 22:16:02        1582064162   \n",
       "4 2020-02-18 20:48:30        1582058910   \n",
       "\n",
       "                                                text  \\\n",
       "0  Which screen protector will you choose for you...   \n",
       "1  Les hice una pregunta sobre la batería del #Ga...   \n",
       "2  #toledo #toledospain #toledoespaña #toledoturi...   \n",
       "3  Here's why the #Samsung #GalaxyS20 makes last ...   \n",
       "4  I love playing in pro mode on the #GalaxyS10. ...   \n",
       "\n",
       "                                           text_html  \\\n",
       "0  <p class=\"TweetTextSize js-tweet-text tweet-te...   \n",
       "1  <p class=\"TweetTextSize js-tweet-text tweet-te...   \n",
       "2  <p class=\"TweetTextSize js-tweet-text tweet-te...   \n",
       "3  <p class=\"TweetTextSize js-tweet-text tweet-te...   \n",
       "4  <p class=\"TweetTextSize js-tweet-text tweet-te...   \n",
       "\n",
       "                                               links  ... has_media  \\\n",
       "0                        [http://WHITESTONEDOME.COM]  ...      True   \n",
       "1                                                 []  ...     False   \n",
       "2  [https://www.instagram.com/p/B8uZ24fIfZt/?igsh...  ...     False   \n",
       "3  [https://www.bestphoneplans.net/news/galaxy-s1...  ...      True   \n",
       "4                                                 []  ...      True   \n",
       "\n",
       "                                            img_urls video_url likes  \\\n",
       "0  [https://pbs.twimg.com/media/ERGHznlW4AAClZ9.j...               0   \n",
       "1                                                 []               0   \n",
       "2                                                 []               0   \n",
       "3  [https://pbs.twimg.com/media/ERF0lEWXkAY0Tot.jpg]               1   \n",
       "4  [https://pbs.twimg.com/media/ERFgUn-U8AAC2nn.jpg]               0   \n",
       "\n",
       "   retweets  replies  is_replied  is_reply_to      parent_tweet_id  \\\n",
       "0         0        0       False        False                        \n",
       "1         0        0       False         True  1229857273574502408   \n",
       "2         0        0       False        False                        \n",
       "3         0        0       False        False                        \n",
       "4         0        0       False        False                        \n",
       "\n",
       "                                      reply_to_users  \n",
       "0                                                 []  \n",
       "1  [{'screen_name': 'SamsungChile', 'user_id': '3...  \n",
       "2                                                 []  \n",
       "3                                                 []  \n",
       "4                                                 []  \n",
       "\n",
       "[5 rows x 21 columns]"
      ]
     },
     "execution_count": 15,
     "metadata": {},
     "output_type": "execute_result"
    }
   ],
   "source": [
    "df_all.head()"
   ]
  },
  {
   "cell_type": "code",
   "execution_count": 22,
   "metadata": {},
   "outputs": [],
   "source": [
    "df_cleaned = df_all.drop(columns=['links', 'img_urls', 'hashtags', 'reply_to_users'])"
   ]
  },
  {
   "cell_type": "code",
   "execution_count": 24,
   "metadata": {},
   "outputs": [
    {
     "data": {
      "text/plain": [
       "(188799, 17)"
      ]
     },
     "execution_count": 24,
     "metadata": {},
     "output_type": "execute_result"
    }
   ],
   "source": [
    "df_cleaned.shape"
   ]
  },
  {
   "cell_type": "code",
   "execution_count": 25,
   "metadata": {},
   "outputs": [
    {
     "data": {
      "text/plain": [
       "(64276, 17)"
      ]
     },
     "execution_count": 25,
     "metadata": {},
     "output_type": "execute_result"
    }
   ],
   "source": [
    "df_more_clean = df_cleaned.drop_duplicates(ignore_index=True)\n",
    "df_more_clean.shape"
   ]
  },
  {
   "cell_type": "code",
   "execution_count": 27,
   "metadata": {},
   "outputs": [
    {
     "data": {
      "text/html": [
       "<div>\n",
       "<style scoped>\n",
       "    .dataframe tbody tr th:only-of-type {\n",
       "        vertical-align: middle;\n",
       "    }\n",
       "\n",
       "    .dataframe tbody tr th {\n",
       "        vertical-align: top;\n",
       "    }\n",
       "\n",
       "    .dataframe thead th {\n",
       "        text-align: right;\n",
       "    }\n",
       "</style>\n",
       "<table border=\"1\" class=\"dataframe\">\n",
       "  <thead>\n",
       "    <tr style=\"text-align: right;\">\n",
       "      <th></th>\n",
       "      <th>screen_name</th>\n",
       "      <th>username</th>\n",
       "      <th>user_id</th>\n",
       "      <th>tweet_id</th>\n",
       "      <th>tweet_url</th>\n",
       "      <th>timestamp</th>\n",
       "      <th>timestamp_epochs</th>\n",
       "      <th>text</th>\n",
       "      <th>text_html</th>\n",
       "      <th>has_media</th>\n",
       "      <th>video_url</th>\n",
       "      <th>likes</th>\n",
       "      <th>retweets</th>\n",
       "      <th>replies</th>\n",
       "      <th>is_replied</th>\n",
       "      <th>is_reply_to</th>\n",
       "      <th>parent_tweet_id</th>\n",
       "    </tr>\n",
       "  </thead>\n",
       "  <tbody>\n",
       "    <tr>\n",
       "      <th>0</th>\n",
       "      <td>whitestonedome</td>\n",
       "      <td>Whitestone Dome</td>\n",
       "      <td>867593107956654080</td>\n",
       "      <td>1229913515751804928</td>\n",
       "      <td>/whitestonedome/status/1229913515751804928</td>\n",
       "      <td>2020-02-18 23:40:07</td>\n",
       "      <td>1582069207</td>\n",
       "      <td>Which screen protector will you choose for you...</td>\n",
       "      <td>&lt;p class=\"TweetTextSize js-tweet-text tweet-te...</td>\n",
       "      <td>True</td>\n",
       "      <td></td>\n",
       "      <td>0</td>\n",
       "      <td>0</td>\n",
       "      <td>0</td>\n",
       "      <td>False</td>\n",
       "      <td>False</td>\n",
       "      <td></td>\n",
       "    </tr>\n",
       "    <tr>\n",
       "      <th>1</th>\n",
       "      <td>Karlytax_90</td>\n",
       "      <td>Karla Contreras</td>\n",
       "      <td>449154311</td>\n",
       "      <td>1229896560982532101</td>\n",
       "      <td>/Karlytax_90/status/1229896560982532101</td>\n",
       "      <td>2020-02-18 22:32:45</td>\n",
       "      <td>1582065165</td>\n",
       "      <td>Les hice una pregunta sobre la batería del #Ga...</td>\n",
       "      <td>&lt;p class=\"TweetTextSize js-tweet-text tweet-te...</td>\n",
       "      <td>False</td>\n",
       "      <td></td>\n",
       "      <td>0</td>\n",
       "      <td>0</td>\n",
       "      <td>0</td>\n",
       "      <td>False</td>\n",
       "      <td>True</td>\n",
       "      <td>1229857273574502408</td>\n",
       "    </tr>\n",
       "    <tr>\n",
       "      <th>2</th>\n",
       "      <td>GianFrDiGiorgi</td>\n",
       "      <td>Gianfranco Di Giorgi</td>\n",
       "      <td>420525254</td>\n",
       "      <td>1229896126310035461</td>\n",
       "      <td>/GianFrDiGiorgi/status/1229896126310035461</td>\n",
       "      <td>2020-02-18 22:31:01</td>\n",
       "      <td>1582065061</td>\n",
       "      <td>#toledo #toledospain #toledoespaña #toledoturi...</td>\n",
       "      <td>&lt;p class=\"TweetTextSize js-tweet-text tweet-te...</td>\n",
       "      <td>False</td>\n",
       "      <td></td>\n",
       "      <td>0</td>\n",
       "      <td>0</td>\n",
       "      <td>0</td>\n",
       "      <td>False</td>\n",
       "      <td>False</td>\n",
       "      <td></td>\n",
       "    </tr>\n",
       "    <tr>\n",
       "      <th>3</th>\n",
       "      <td>bestphoneplans_</td>\n",
       "      <td>BestPhonePlans</td>\n",
       "      <td>977191396925943808</td>\n",
       "      <td>1229892355332984833</td>\n",
       "      <td>/bestphoneplans_/status/1229892355332984833</td>\n",
       "      <td>2020-02-18 22:16:02</td>\n",
       "      <td>1582064162</td>\n",
       "      <td>Here's why the #Samsung #GalaxyS20 makes last ...</td>\n",
       "      <td>&lt;p class=\"TweetTextSize js-tweet-text tweet-te...</td>\n",
       "      <td>True</td>\n",
       "      <td></td>\n",
       "      <td>1</td>\n",
       "      <td>0</td>\n",
       "      <td>0</td>\n",
       "      <td>False</td>\n",
       "      <td>False</td>\n",
       "      <td></td>\n",
       "    </tr>\n",
       "    <tr>\n",
       "      <th>4</th>\n",
       "      <td>12bLAxx</td>\n",
       "      <td>Anika Malone</td>\n",
       "      <td>3265462410</td>\n",
       "      <td>1229870326894358528</td>\n",
       "      <td>/12bLAxx/status/1229870326894358528</td>\n",
       "      <td>2020-02-18 20:48:30</td>\n",
       "      <td>1582058910</td>\n",
       "      <td>I love playing in pro mode on the #GalaxyS10. ...</td>\n",
       "      <td>&lt;p class=\"TweetTextSize js-tweet-text tweet-te...</td>\n",
       "      <td>True</td>\n",
       "      <td></td>\n",
       "      <td>0</td>\n",
       "      <td>0</td>\n",
       "      <td>0</td>\n",
       "      <td>False</td>\n",
       "      <td>False</td>\n",
       "      <td></td>\n",
       "    </tr>\n",
       "  </tbody>\n",
       "</table>\n",
       "</div>"
      ],
      "text/plain": [
       "       screen_name              username             user_id  \\\n",
       "0   whitestonedome       Whitestone Dome  867593107956654080   \n",
       "1      Karlytax_90       Karla Contreras           449154311   \n",
       "2   GianFrDiGiorgi  Gianfranco Di Giorgi           420525254   \n",
       "3  bestphoneplans_        BestPhonePlans  977191396925943808   \n",
       "4          12bLAxx          Anika Malone          3265462410   \n",
       "\n",
       "              tweet_id                                    tweet_url  \\\n",
       "0  1229913515751804928   /whitestonedome/status/1229913515751804928   \n",
       "1  1229896560982532101      /Karlytax_90/status/1229896560982532101   \n",
       "2  1229896126310035461   /GianFrDiGiorgi/status/1229896126310035461   \n",
       "3  1229892355332984833  /bestphoneplans_/status/1229892355332984833   \n",
       "4  1229870326894358528          /12bLAxx/status/1229870326894358528   \n",
       "\n",
       "            timestamp  timestamp_epochs  \\\n",
       "0 2020-02-18 23:40:07        1582069207   \n",
       "1 2020-02-18 22:32:45        1582065165   \n",
       "2 2020-02-18 22:31:01        1582065061   \n",
       "3 2020-02-18 22:16:02        1582064162   \n",
       "4 2020-02-18 20:48:30        1582058910   \n",
       "\n",
       "                                                text  \\\n",
       "0  Which screen protector will you choose for you...   \n",
       "1  Les hice una pregunta sobre la batería del #Ga...   \n",
       "2  #toledo #toledospain #toledoespaña #toledoturi...   \n",
       "3  Here's why the #Samsung #GalaxyS20 makes last ...   \n",
       "4  I love playing in pro mode on the #GalaxyS10. ...   \n",
       "\n",
       "                                           text_html  has_media video_url  \\\n",
       "0  <p class=\"TweetTextSize js-tweet-text tweet-te...       True             \n",
       "1  <p class=\"TweetTextSize js-tweet-text tweet-te...      False             \n",
       "2  <p class=\"TweetTextSize js-tweet-text tweet-te...      False             \n",
       "3  <p class=\"TweetTextSize js-tweet-text tweet-te...       True             \n",
       "4  <p class=\"TweetTextSize js-tweet-text tweet-te...       True             \n",
       "\n",
       "   likes  retweets  replies  is_replied  is_reply_to      parent_tweet_id  \n",
       "0      0         0        0       False        False                       \n",
       "1      0         0        0       False         True  1229857273574502408  \n",
       "2      0         0        0       False        False                       \n",
       "3      1         0        0       False        False                       \n",
       "4      0         0        0       False        False                       "
      ]
     },
     "execution_count": 27,
     "metadata": {},
     "output_type": "execute_result"
    }
   ],
   "source": [
    "df_more_clean.head()"
   ]
  },
  {
   "cell_type": "code",
   "execution_count": 29,
   "metadata": {},
   "outputs": [
    {
     "data": {
      "text/plain": [
       "(Timestamp('2017-03-15 00:01:30'), Timestamp('2020-02-24 23:59:43'))"
      ]
     },
     "execution_count": 29,
     "metadata": {},
     "output_type": "execute_result"
    }
   ],
   "source": [
    "df_more_clean.timestamp.min(), df_more_clean.timestamp.max()"
   ]
  },
  {
   "cell_type": "code",
   "execution_count": 34,
   "metadata": {},
   "outputs": [],
   "source": [
    "# export dataframe\n",
    "df_more_clean.to_pickle('scraped_tweets.pkl')"
   ]
  }
 ],
 "metadata": {
  "kernelspec": {
   "display_name": "Python 3.7.4 64-bit ('metis': conda)",
   "language": "python",
   "name": "python37464bitmetisconda6ec158bba95c452caae9ce18793916df"
  },
  "language_info": {
   "codemirror_mode": {
    "name": "ipython",
    "version": 3
   },
   "file_extension": ".py",
   "mimetype": "text/x-python",
   "name": "python",
   "nbconvert_exporter": "python",
   "pygments_lexer": "ipython3",
   "version": "3.7.4"
  }
 },
 "nbformat": 4,
 "nbformat_minor": 4
}
